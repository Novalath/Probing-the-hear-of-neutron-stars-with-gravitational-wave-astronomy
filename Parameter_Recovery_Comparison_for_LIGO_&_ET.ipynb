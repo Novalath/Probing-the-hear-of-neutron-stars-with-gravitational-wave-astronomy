{
  "cells": [
    {
      "cell_type": "code",
      "execution_count": null,
      "metadata": {
        "colab": {
          "base_uri": "https://localhost:8080/"
        },
        "id": "fWSpo03DrUKi",
        "outputId": "d0054858-e310-4b77-8ca2-c7bdd5fd60ae"
      },
      "outputs": [
        {
          "output_type": "stream",
          "name": "stdout",
          "text": [
            "Collecting pycbc\n",
            "  Downloading PyCBC-2.0.2-cp37-cp37m-manylinux2010_x86_64.whl (6.7 MB)\n",
            "\u001b[K     |████████████████████████████████| 6.7 MB 26.8 MB/s \n",
            "\u001b[?25hCollecting ligo-common\n",
            "  Downloading ligo_common-1.0.3-py2.py3-none-any.whl (2.0 kB)\n",
            "Collecting emcee==2.2.1\n",
            "  Downloading emcee-2.2.1.tar.gz (24 kB)\n",
            "Requirement already satisfied: numpy in /usr/local/lib/python3.7/dist-packages (from emcee==2.2.1) (1.21.6)\n",
            "Requirement already satisfied: matplotlib>=1.5.1 in /usr/local/lib/python3.7/dist-packages (from pycbc) (3.2.2)\n",
            "Collecting ligo-segments\n",
            "  Downloading ligo-segments-1.4.0.tar.gz (51 kB)\n",
            "\u001b[K     |████████████████████████████████| 51 kB 39.4 MB/s \n",
            "\u001b[?25hCollecting lscsoft-glue>=1.59.3\n",
            "  Downloading lscsoft-glue-3.0.1.tar.gz (1.4 MB)\n",
            "\u001b[K     |████████████████████████████████| 1.4 MB 47.9 MB/s \n",
            "\u001b[?25h  Installing build dependencies ... \u001b[?25l\u001b[?25hdone\n",
            "  Getting requirements to build wheel ... \u001b[?25l\u001b[?25hdone\n",
            "    Preparing wheel metadata ... \u001b[?25l\u001b[?25hdone\n",
            "Collecting pegasus-wms.api>=5.0.1\n",
            "  Downloading pegasus-wms.api-5.0.1.tar.gz (45 kB)\n",
            "\u001b[K     |████████████████████████████████| 45 kB 40.2 MB/s \n",
            "\u001b[?25h  Installing build dependencies ... \u001b[?25l\u001b[?25hdone\n",
            "  Getting requirements to build wheel ... \u001b[?25l\u001b[?25hdone\n",
            "    Preparing wheel metadata ... \u001b[?25l\u001b[?25hdone\n",
            "Collecting mpld3>=0.3\n",
            "  Downloading mpld3-0.5.7-py3-none-any.whl (201 kB)\n",
            "\u001b[K     |████████████████████████████████| 201 kB 59.5 MB/s \n",
            "\u001b[?25hRequirement already satisfied: beautifulsoup4>=4.6.0 in /usr/local/lib/python3.7/dist-packages (from pycbc) (4.6.3)\n",
            "Requirement already satisfied: astropy!=4.0.5,!=4.2.1,>=2.0.3 in /usr/local/lib/python3.7/dist-packages (from pycbc) (4.3.1)\n",
            "Collecting python-ligo-lw>=1.7.0\n",
            "  Downloading python-ligo-lw-1.8.0.tar.gz (7.3 MB)\n",
            "\u001b[K     |████████████████████████████████| 7.3 MB 54.8 MB/s \n",
            "\u001b[?25hRequirement already satisfied: pillow in /usr/local/lib/python3.7/dist-packages (from pycbc) (7.1.2)\n",
            "Requirement already satisfied: decorator>=3.4.2 in /usr/local/lib/python3.7/dist-packages (from pycbc) (4.4.2)\n",
            "Collecting lalsuite!=7.2\n",
            "  Downloading lalsuite-7.5-cp37-cp37m-manylinux_2_17_x86_64.manylinux2014_x86_64.whl (48.3 MB)\n",
            "\u001b[K     |████████████████████████████████| 48.3 MB 1.2 MB/s \n",
            "\u001b[?25hRequirement already satisfied: h5py>=2.10 in /usr/local/lib/python3.7/dist-packages (from pycbc) (3.1.0)\n",
            "Requirement already satisfied: jinja2 in /usr/local/lib/python3.7/dist-packages (from pycbc) (2.11.3)\n",
            "Collecting Mako>=1.0.1\n",
            "  Downloading Mako-1.2.0-py3-none-any.whl (78 kB)\n",
            "\u001b[K     |████████████████████████████████| 78 kB 57.4 MB/s \n",
            "\u001b[?25hCollecting gwdatafind\n",
            "  Downloading gwdatafind-1.1.1-py3-none-any.whl (45 kB)\n",
            "\u001b[K     |████████████████████████████████| 45 kB 45.5 MB/s \n",
            "\u001b[?25hRequirement already satisfied: requests>=1.2.1 in /usr/local/lib/python3.7/dist-packages (from pycbc) (2.23.0)\n",
            "Requirement already satisfied: cython>=0.29 in /usr/local/lib/python3.7/dist-packages (from pycbc) (0.29.30)\n",
            "Requirement already satisfied: tqdm in /usr/local/lib/python3.7/dist-packages (from pycbc) (4.64.0)\n",
            "Requirement already satisfied: six>=1.10.0 in /usr/local/lib/python3.7/dist-packages (from pycbc) (1.15.0)\n",
            "Requirement already satisfied: scipy>=0.16.0 in /usr/local/lib/python3.7/dist-packages (from pycbc) (1.4.1)\n",
            "Requirement already satisfied: pyerfa>=1.7.3 in /usr/local/lib/python3.7/dist-packages (from astropy!=4.0.5,!=4.2.1,>=2.0.3->pycbc) (2.0.0.1)\n",
            "Requirement already satisfied: importlib-metadata in /usr/local/lib/python3.7/dist-packages (from astropy!=4.0.5,!=4.2.1,>=2.0.3->pycbc) (4.11.3)\n",
            "Requirement already satisfied: cached-property in /usr/local/lib/python3.7/dist-packages (from h5py>=2.10->pycbc) (1.5.2)\n",
            "Requirement already satisfied: python-dateutil in /usr/local/lib/python3.7/dist-packages (from lalsuite!=7.2->pycbc) (2.8.2)\n",
            "Collecting pyOpenSSL\n",
            "  Downloading pyOpenSSL-22.0.0-py2.py3-none-any.whl (55 kB)\n",
            "\u001b[K     |████████████████████████████████| 55 kB 59.3 MB/s \n",
            "\u001b[?25hCollecting pyRXP\n",
            "  Downloading pyRXP-3.0.1-cp37-cp37m-manylinux_2_12_x86_64.manylinux2010_x86_64.whl (295 kB)\n",
            "\u001b[K     |████████████████████████████████| 295 kB 75.1 MB/s \n",
            "\u001b[?25hRequirement already satisfied: MarkupSafe>=0.9.2 in /usr/local/lib/python3.7/dist-packages (from Mako>=1.0.1->pycbc) (2.0.1)\n",
            "Requirement already satisfied: kiwisolver>=1.0.1 in /usr/local/lib/python3.7/dist-packages (from matplotlib>=1.5.1->pycbc) (1.4.2)\n",
            "Requirement already satisfied: cycler>=0.10 in /usr/local/lib/python3.7/dist-packages (from matplotlib>=1.5.1->pycbc) (0.11.0)\n",
            "Requirement already satisfied: pyparsing!=2.0.4,!=2.1.2,!=2.1.6,>=2.0.1 in /usr/local/lib/python3.7/dist-packages (from matplotlib>=1.5.1->pycbc) (3.0.9)\n",
            "Requirement already satisfied: typing-extensions in /usr/local/lib/python3.7/dist-packages (from kiwisolver>=1.0.1->matplotlib>=1.5.1->pycbc) (4.2.0)\n",
            "Collecting pegasus-wms.common<5.1\n",
            "  Downloading pegasus-wms.common-5.0.1.tar.gz (43 kB)\n",
            "\u001b[K     |████████████████████████████████| 43 kB 28.4 MB/s \n",
            "\u001b[?25h  Installing build dependencies ... \u001b[?25l\u001b[?25hdone\n",
            "  Getting requirements to build wheel ... \u001b[?25l\u001b[?25hdone\n",
            "    Preparing wheel metadata ... \u001b[?25l\u001b[?25hdone\n",
            "Collecting PyYAML<5.5,>5.3\n",
            "  Downloading PyYAML-5.4.1-cp37-cp37m-manylinux1_x86_64.whl (636 kB)\n",
            "\u001b[K     |████████████████████████████████| 636 kB 69.5 MB/s \n",
            "\u001b[?25hRequirement already satisfied: urllib3!=1.25.0,!=1.25.1,<1.26,>=1.21.1 in /usr/local/lib/python3.7/dist-packages (from requests>=1.2.1->pycbc) (1.24.3)\n",
            "Requirement already satisfied: chardet<4,>=3.0.2 in /usr/local/lib/python3.7/dist-packages (from requests>=1.2.1->pycbc) (3.0.4)\n",
            "Requirement already satisfied: idna<3,>=2.5 in /usr/local/lib/python3.7/dist-packages (from requests>=1.2.1->pycbc) (2.10)\n",
            "Requirement already satisfied: certifi>=2017.4.17 in /usr/local/lib/python3.7/dist-packages (from requests>=1.2.1->pycbc) (2021.10.8)\n",
            "Collecting igwn-auth-utils[requests]>=0.2.0\n",
            "  Downloading igwn_auth_utils-0.2.2-py3-none-any.whl (20 kB)\n",
            "Collecting cryptography>=2.3\n",
            "  Downloading cryptography-37.0.2-cp36-abi3-manylinux_2_24_x86_64.whl (4.0 MB)\n",
            "\u001b[K     |████████████████████████████████| 4.0 MB 53.6 MB/s \n",
            "\u001b[?25hCollecting scitokens>=1.7.0\n",
            "  Downloading scitokens-1.7.0-py3-none-any.whl (23 kB)\n",
            "Collecting safe-netrc>=1.0.0\n",
            "  Downloading safe_netrc-1.0.0-py2.py3-none-any.whl (11 kB)\n",
            "Requirement already satisfied: cffi>=1.12 in /usr/local/lib/python3.7/dist-packages (from cryptography>=2.3->igwn-auth-utils[requests]>=0.2.0->gwdatafind->pycbc) (1.15.0)\n",
            "Requirement already satisfied: pycparser in /usr/local/lib/python3.7/dist-packages (from cffi>=1.12->cryptography>=2.3->igwn-auth-utils[requests]>=0.2.0->gwdatafind->pycbc) (2.21)\n",
            "Collecting PyJWT>=1.6.1\n",
            "  Downloading PyJWT-2.4.0-py3-none-any.whl (18 kB)\n",
            "Requirement already satisfied: zipp>=0.5 in /usr/local/lib/python3.7/dist-packages (from importlib-metadata->astropy!=4.0.5,!=4.2.1,>=2.0.3->pycbc) (3.8.0)\n",
            "Building wheels for collected packages: emcee, lscsoft-glue, pegasus-wms.api, pegasus-wms.common, python-ligo-lw, ligo-segments\n",
            "  Building wheel for emcee (setup.py) ... \u001b[?25l\u001b[?25hdone\n",
            "  Created wheel for emcee: filename=emcee-2.2.1-py3-none-any.whl size=29610 sha256=2361844bd3f0e81c7b597187502de5dbf3c79842e303dbafb09fb1a58fc19c5d\n",
            "  Stored in directory: /tmp/pip-ephem-wheel-cache-8sg3535j/wheels/e5/a8/f9/786e27aeae8bc4dbf2b22f1d0055098c3a00c307689894c26f\n",
            "  Building wheel for lscsoft-glue (PEP 517) ... \u001b[?25l\u001b[?25hdone\n",
            "  Created wheel for lscsoft-glue: filename=lscsoft_glue-3.0.1-cp37-cp37m-linux_x86_64.whl size=258456 sha256=a9d01e04a3564aaa5529d51465dd26329b1dc81910310bc214239f3fc18878c4\n",
            "  Stored in directory: /tmp/pip-ephem-wheel-cache-8sg3535j/wheels/62/ad/9a/6e89ceed9887a50c3c227beea125ad58f50b3622fbaf0873bf\n",
            "  Building wheel for pegasus-wms.api (PEP 517) ... \u001b[?25l\u001b[?25hdone\n",
            "  Created wheel for pegasus-wms.api: filename=pegasus_wms.api-5.0.1-py3-none-any.whl size=49028 sha256=08e9611c97e3a1f2c0d0bfd17b31b84fd9dec1b22ec1ba998510f6cb5caab338\n",
            "  Stored in directory: /tmp/pip-ephem-wheel-cache-8sg3535j/wheels/80/c5/b4/d5b4849b4829b023459f29f493c73e7b4967bd07c234bae049\n",
            "  Building wheel for pegasus-wms.common (PEP 517) ... \u001b[?25l\u001b[?25hdone\n",
            "  Created wheel for pegasus-wms.common: filename=pegasus_wms.common-5.0.1-py3-none-any.whl size=46380 sha256=a1433cd5f0e759fa5587111d1f6b7a46eca288b14e8c7f1b1da9b7630e469c48\n",
            "  Stored in directory: /tmp/pip-ephem-wheel-cache-8sg3535j/wheels/42/94/ce/015f98ac7405529587cef7b1d3fdc7419605b34b9e440b0b0e\n",
            "  Building wheel for python-ligo-lw (setup.py) ... \u001b[?25l\u001b[?25hdone\n",
            "  Created wheel for python-ligo-lw: filename=python_ligo_lw-1.8.0-cp37-cp37m-linux_x86_64.whl size=161894 sha256=7a97638f727de0a4283d01e3be0b3ee692c8c77c3fcd0b4d5a711e4999f71dbe\n",
            "  Stored in directory: /tmp/pip-ephem-wheel-cache-8sg3535j/wheels/68/6c/3a/00d623422a545b21b5d9d0a4d5a9367a45a8cd0bf5480746b6\n",
            "  Building wheel for ligo-segments (setup.py) ... \u001b[?25l\u001b[?25hdone\n",
            "  Created wheel for ligo-segments: filename=ligo_segments-1.4.0-cp37-cp37m-linux_x86_64.whl size=86651 sha256=0d3dc22a8d02f0e49352673f8ba748497fdb2029911df6686c58effc65fe813b\n",
            "  Stored in directory: /tmp/pip-ephem-wheel-cache-8sg3535j/wheels/09/f9/d4/129b3bb4458d50b56fdc8245ace7c8216d54865fe8d3aebc05\n",
            "Successfully built emcee lscsoft-glue pegasus-wms.api pegasus-wms.common python-ligo-lw ligo-segments\n",
            "Installing collected packages: PyJWT, cryptography, scitokens, safe-netrc, PyYAML, pyRXP, pyOpenSSL, ligo-segments, igwn-auth-utils, pegasus-wms.common, lscsoft-glue, python-ligo-lw, pegasus-wms.api, mpld3, Mako, lalsuite, gwdatafind, pycbc, ligo-common, emcee\n",
            "  Attempting uninstall: PyYAML\n",
            "    Found existing installation: PyYAML 3.13\n",
            "    Uninstalling PyYAML-3.13:\n",
            "      Successfully uninstalled PyYAML-3.13\n",
            "Successfully installed Mako-1.2.0 PyJWT-2.4.0 PyYAML-5.4.1 cryptography-37.0.2 emcee-2.2.1 gwdatafind-1.1.1 igwn-auth-utils-0.2.2 lalsuite-7.5 ligo-common-1.0.3 ligo-segments-1.4.0 lscsoft-glue-3.0.1 mpld3-0.5.7 pegasus-wms.api-5.0.1 pegasus-wms.common-5.0.1 pyOpenSSL-22.0.0 pyRXP-3.0.1 pycbc-2.0.2 python-ligo-lw-1.8.0 safe-netrc-1.0.0 scitokens-1.7.0\n"
          ]
        }
      ],
      "source": [
        "import sys\n",
        "!{sys.executable} -m pip install pycbc ligo-common emcee==2.2.1 --no-cache-dir"
      ]
    },
    {
      "cell_type": "code",
      "source": [
        "from google.colab import drive\n",
        "drive.mount('/content/drive')"
      ],
      "metadata": {
        "colab": {
          "base_uri": "https://localhost:8080/"
        },
        "id": "1eOSiqL7kwoG",
        "outputId": "7eed01d8-efb7-4932-dd44-9991562906c7"
      },
      "execution_count": null,
      "outputs": [
        {
          "output_type": "stream",
          "name": "stdout",
          "text": [
            "Drive already mounted at /content/drive; to attempt to forcibly remount, call drive.mount(\"/content/drive\", force_remount=True).\n"
          ]
        }
      ]
    },
    {
      "cell_type": "code",
      "execution_count": null,
      "metadata": {
        "colab": {
          "base_uri": "https://localhost:8080/"
        },
        "id": "QhNzekfxrvkO",
        "outputId": "807d7a05-4633-4c05-8481-586c1d90628f"
      },
      "outputs": [
        {
          "output_type": "stream",
          "name": "stdout",
          "text": [
            "test_eggbox\n",
            "test_normal\n",
            "test_rosenbrock\n",
            "test_volcano\n",
            "test_posterior\n",
            "test_prior\n",
            "gaussian_noise\n",
            "marginalized_phase\n",
            "marginalized_polarization\n",
            "marginalized_hmpolphase\n",
            "brute_parallel_gaussian_marginalize\n",
            "gated_gaussian_noise\n",
            "gated_gaussian_margpol\n",
            "single_template\n",
            "relative\n"
          ]
        }
      ],
      "source": [
        "from pycbc.inference import models\n",
        "\n",
        "for model_name in models.models:\n",
        "    print(model_name)\n",
        "from pycbc.inference import models\n",
        "from pycbc.distributions import Uniform\n",
        "from pycbc.inference import sampler\n",
        "import pylab, numpy\n",
        "from numpy.random import uniform, seed\n",
        "from pycbc.distributions import Uniform\n",
        "from pycbc.distributions import JointDistribution\n",
        "import pylab, numpy\n",
        "from scipy import stats\n",
        "from pycbc.catalog import Merger\n",
        "from pycbc.psd import interpolate, inverse_spectrum_truncation\n",
        "from pycbc.frame import read_frame\n",
        "from pycbc.filter import highpass, resample_to_delta_t\n",
        "from astropy.utils.data import download_file\n",
        "from pycbc.inference import models, sampler\n",
        "from pycbc.distributions import Uniform, JointDistribution, SinAngle\n",
        "import numpy\n",
        "import copy\n",
        "from matplotlib import animation\n",
        "import pylab\n",
        "from matplotlib.animation import PillowWriter\n",
        "from IPython.display import Image\n",
        "from IPython.display import HTML"
      ]
    },
    {
      "cell_type": "code",
      "execution_count": null,
      "metadata": {
        "id": "mbifTdIL2sQY"
      },
      "outputs": [],
      "source": [
        "#download data for GW170817, this code can be found here: https://pycbc.org/pycbc/latest/html/inference/examples/relative.html\n",
        "%%bash\n",
        "(for ifo in H-H1 L-L1\n",
        "do\n",
        "    file=${ifo}_LOSC_CLN_4_V1-1187007040-2048.gwf\n",
        "    test -f ${file} && continue\n",
        "    curl -O --silent https://dcc.ligo.org/public/0146/P1700349/001/${file}\n",
        "done)"
      ]
    },
    {
      "cell_type": "code",
      "execution_count": null,
      "metadata": {
        "colab": {
          "base_uri": "https://localhost:8080/"
        },
        "id": "lDUrpeptfgqV",
        "outputId": "48ba3986-c1b6-4f83-ff91-4d8719672282"
      },
      "outputs": [
        {
          "output_type": "stream",
          "name": "stderr",
          "text": [
            "2022-05-22 09:47:15,082 Loading config file\n",
            "2022-05-22 09:47:15,083 Reading configuration file\n",
            "2022-05-22 09:47:15,283 Reading distributions\n",
            "2022-05-22 09:47:15,284 Drawing samples\n",
            "2022-05-22 09:47:15,285 Writing results\n"
          ]
        }
      ],
      "source": [
        "#create an injection file for our simulated data this code can be found here: https://pycbc.org/pycbc/latest/html/inference/examples/bbh.html\n",
        "%%bash\n",
        "(pycbc_create_injections --verbose \\\n",
        "        --config-files injection.ini \\\n",
        "        --ninjections 1 \\\n",
        "        --seed 10 \\\n",
        "        --output-file injection.hdf \\\n",
        "        --variable-params-section variable_params \\\n",
        "        --static-params-section static_params \\\n",
        "        --dist-section prior \\\n",
        "        --force)"
      ]
    },
    {
      "cell_type": "code",
      "source": [
        "#run an Bayesian Inference for the configs currently set up for the Einstein Telescope. change \"ETConfig.ini\" to \"LIGOsim\" for the simulated LIGO inference or to \"LIGOL1H1Config.ini\" for data using real 170817 data.\n",
        "#you can change \"Output\" to something else so you can run this and keep each file\n",
        "#code sourced from: https://github.com/gwastro/PyCBC-Tutorials/blob/master/tutorial/inference_0_Overview.ipynb\n",
        "!pycbc_inference \\\n",
        "    --config-files EtConfig.ini \\\n",
        "    --nprocesses=4 \\\n",
        "    --output-file Output.hdf \\\n",
        "    --seed 0 \\\n",
        "    --force \\\n",
        "    --verbose"
      ],
      "metadata": {
        "colab": {
          "base_uri": "https://localhost:8080/"
        },
        "id": "F0T3nRplu7vz",
        "outputId": "085030df-f8ff-48eb-d9c3-a5ae747e8448"
      },
      "execution_count": 1,
      "outputs": [
        {
          "output_type": "stream",
          "name": "stdout",
          "text": [
            "/bin/bash: pycbc_inference: command not found\n"
          ]
        }
      ]
    },
    {
      "cell_type": "code",
      "execution_count": null,
      "metadata": {
        "id": "R6EHBoT1G2Oe"
      },
      "outputs": [],
      "source": [
        "#use this to produce lambdatilde plots given your output file\n",
        "#code sourced from: https://github.com/gwastro/PyCBC-Tutorials/blob/master/tutorial/inference_0_Overview.ipynb\n",
        "!pycbc_inference_plot_posterior \\\n",
        "    --input-file Output.hdf \\\n",
        "    --output-file lambdatilde.png \\\n",
        "    --parameters 'lambda_tilde(mass1, mass2, lambda1, lambda2):Lambda' \\\n",
        "    --z-arg snr"
      ]
    },
    {
      "cell_type": "code",
      "source": [
        "#use this to produce lambdacorner plots given your output file\n",
        "#code sourced from: https://github.com/gwastro/PyCBC-Tutorials/blob/master/tutorial/inference_0_Overview.ipynb\n",
        "!pycbc_inference_plot_posterior \\\n",
        "    --input-file Output.hdf \\\n",
        "    --output-file lambdacorner.png \\\n",
        "    --parameters 'lambda_tilde(mass1, mass2, lambda1, lambda2):Lambda' \\\n",
        "    --z-arg snr"
      ],
      "metadata": {
        "id": "V6EUBZyeuidL"
      },
      "execution_count": null,
      "outputs": []
    },
    {
      "cell_type": "code",
      "source": [
        ""
      ],
      "metadata": {
        "id": "rujWRqzZfdHO"
      },
      "execution_count": null,
      "outputs": []
    }
  ],
  "metadata": {
    "colab": {
      "name": "Parameter Recovery Comparison for LIGO & ET.ipynb",
      "provenance": []
    },
    "kernelspec": {
      "display_name": "Python 3",
      "name": "python3"
    },
    "language_info": {
      "name": "python"
    }
  },
  "nbformat": 4,
  "nbformat_minor": 0
}