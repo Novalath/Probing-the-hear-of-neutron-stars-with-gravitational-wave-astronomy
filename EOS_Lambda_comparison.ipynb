{
  "nbformat": 4,
  "nbformat_minor": 0,
  "metadata": {
    "colab": {
      "name": "EOS Lambda comparison.ipynb",
      "provenance": []
    },
    "kernelspec": {
      "name": "python3",
      "display_name": "Python 3"
    },
    "language_info": {
      "name": "python"
    }
  },
  "cells": [
    {
      "cell_type": "code",
      "source": [
        "import sys\n",
        "!{sys.executable} -m pip install pycbc ligo-common emcee==2.2.1\n",
        "#Install the PyCBC "
      ],
      "metadata": {
        "colab": {
          "base_uri": "https://localhost:8080/"
        },
        "id": "fQAfWytPlSC9",
        "outputId": "b9b6a37e-3199-46e1-a55b-45c208c5d076"
      },
      "execution_count": 1,
      "outputs": [
        {
          "output_type": "stream",
          "name": "stdout",
          "text": [
            "Collecting pycbc\n",
            "  Downloading PyCBC-2.0.2-cp37-cp37m-manylinux2010_x86_64.whl (6.7 MB)\n",
            "\u001b[K     |████████████████████████████████| 6.7 MB 4.2 MB/s \n",
            "\u001b[?25hCollecting ligo-common\n",
            "  Downloading ligo_common-1.0.3-py2.py3-none-any.whl (2.0 kB)\n",
            "Collecting emcee==2.2.1\n",
            "  Downloading emcee-2.2.1.tar.gz (24 kB)\n",
            "Requirement already satisfied: numpy in /usr/local/lib/python3.7/dist-packages (from emcee==2.2.1) (1.21.6)\n",
            "Collecting lalsuite!=7.2\n",
            "  Downloading lalsuite-7.5-cp37-cp37m-manylinux_2_17_x86_64.manylinux2014_x86_64.whl (48.3 MB)\n",
            "\u001b[K     |████████████████████████████████| 48.3 MB 69 kB/s \n",
            "\u001b[?25hRequirement already satisfied: requests>=1.2.1 in /usr/local/lib/python3.7/dist-packages (from pycbc) (2.23.0)\n",
            "Requirement already satisfied: tqdm in /usr/local/lib/python3.7/dist-packages (from pycbc) (4.64.0)\n",
            "Requirement already satisfied: decorator>=3.4.2 in /usr/local/lib/python3.7/dist-packages (from pycbc) (4.4.2)\n",
            "Requirement already satisfied: beautifulsoup4>=4.6.0 in /usr/local/lib/python3.7/dist-packages (from pycbc) (4.6.3)\n",
            "Collecting Mako>=1.0.1\n",
            "  Downloading Mako-1.2.0-py3-none-any.whl (78 kB)\n",
            "\u001b[K     |████████████████████████████████| 78 kB 6.0 MB/s \n",
            "\u001b[?25hRequirement already satisfied: jinja2 in /usr/local/lib/python3.7/dist-packages (from pycbc) (2.11.3)\n",
            "Collecting ligo-segments\n",
            "  Downloading ligo-segments-1.4.0.tar.gz (51 kB)\n",
            "\u001b[K     |████████████████████████████████| 51 kB 4.3 MB/s \n",
            "\u001b[?25hRequirement already satisfied: pillow in /usr/local/lib/python3.7/dist-packages (from pycbc) (7.1.2)\n",
            "Requirement already satisfied: scipy>=0.16.0 in /usr/local/lib/python3.7/dist-packages (from pycbc) (1.4.1)\n",
            "Collecting python-ligo-lw>=1.7.0\n",
            "  Downloading python-ligo-lw-1.8.0.tar.gz (7.3 MB)\n",
            "\u001b[K     |████████████████████████████████| 7.3 MB 24.3 MB/s \n",
            "\u001b[?25hCollecting gwdatafind\n",
            "  Downloading gwdatafind-1.1.1-py3-none-any.whl (45 kB)\n",
            "\u001b[K     |████████████████████████████████| 45 kB 2.7 MB/s \n",
            "\u001b[?25hCollecting mpld3>=0.3\n",
            "  Downloading mpld3-0.5.7-py3-none-any.whl (201 kB)\n",
            "\u001b[K     |████████████████████████████████| 201 kB 68.9 MB/s \n",
            "\u001b[?25hRequirement already satisfied: h5py>=2.10 in /usr/local/lib/python3.7/dist-packages (from pycbc) (3.1.0)\n",
            "Collecting lscsoft-glue>=1.59.3\n",
            "  Downloading lscsoft-glue-3.0.1.tar.gz (1.4 MB)\n",
            "\u001b[K     |████████████████████████████████| 1.4 MB 50.1 MB/s \n",
            "\u001b[?25h  Installing build dependencies ... \u001b[?25l\u001b[?25hdone\n",
            "  Getting requirements to build wheel ... \u001b[?25l\u001b[?25hdone\n",
            "    Preparing wheel metadata ... \u001b[?25l\u001b[?25hdone\n",
            "Collecting pegasus-wms.api>=5.0.1\n",
            "  Downloading pegasus-wms.api-5.0.1.tar.gz (45 kB)\n",
            "\u001b[K     |████████████████████████████████| 45 kB 2.5 MB/s \n",
            "\u001b[?25h  Installing build dependencies ... \u001b[?25l\u001b[?25hdone\n",
            "  Getting requirements to build wheel ... \u001b[?25l\u001b[?25hdone\n",
            "    Preparing wheel metadata ... \u001b[?25l\u001b[?25hdone\n",
            "Requirement already satisfied: cython>=0.29 in /usr/local/lib/python3.7/dist-packages (from pycbc) (0.29.30)\n",
            "Requirement already satisfied: astropy!=4.0.5,!=4.2.1,>=2.0.3 in /usr/local/lib/python3.7/dist-packages (from pycbc) (4.3.1)\n",
            "Requirement already satisfied: matplotlib>=1.5.1 in /usr/local/lib/python3.7/dist-packages (from pycbc) (3.2.2)\n",
            "Requirement already satisfied: six>=1.10.0 in /usr/local/lib/python3.7/dist-packages (from pycbc) (1.15.0)\n",
            "Requirement already satisfied: pyerfa>=1.7.3 in /usr/local/lib/python3.7/dist-packages (from astropy!=4.0.5,!=4.2.1,>=2.0.3->pycbc) (2.0.0.1)\n",
            "Requirement already satisfied: importlib-metadata in /usr/local/lib/python3.7/dist-packages (from astropy!=4.0.5,!=4.2.1,>=2.0.3->pycbc) (4.11.3)\n",
            "Requirement already satisfied: cached-property in /usr/local/lib/python3.7/dist-packages (from h5py>=2.10->pycbc) (1.5.2)\n",
            "Requirement already satisfied: python-dateutil in /usr/local/lib/python3.7/dist-packages (from lalsuite!=7.2->pycbc) (2.8.2)\n",
            "Collecting pyOpenSSL\n",
            "  Downloading pyOpenSSL-22.0.0-py2.py3-none-any.whl (55 kB)\n",
            "\u001b[K     |████████████████████████████████| 55 kB 3.0 MB/s \n",
            "\u001b[?25hCollecting pyRXP\n",
            "  Downloading pyRXP-3.0.1-cp37-cp37m-manylinux_2_12_x86_64.manylinux2010_x86_64.whl (295 kB)\n",
            "\u001b[K     |████████████████████████████████| 295 kB 48.3 MB/s \n",
            "\u001b[?25hRequirement already satisfied: MarkupSafe>=0.9.2 in /usr/local/lib/python3.7/dist-packages (from Mako>=1.0.1->pycbc) (2.0.1)\n",
            "Requirement already satisfied: pyparsing!=2.0.4,!=2.1.2,!=2.1.6,>=2.0.1 in /usr/local/lib/python3.7/dist-packages (from matplotlib>=1.5.1->pycbc) (3.0.9)\n",
            "Requirement already satisfied: cycler>=0.10 in /usr/local/lib/python3.7/dist-packages (from matplotlib>=1.5.1->pycbc) (0.11.0)\n",
            "Requirement already satisfied: kiwisolver>=1.0.1 in /usr/local/lib/python3.7/dist-packages (from matplotlib>=1.5.1->pycbc) (1.4.2)\n",
            "Requirement already satisfied: typing-extensions in /usr/local/lib/python3.7/dist-packages (from kiwisolver>=1.0.1->matplotlib>=1.5.1->pycbc) (4.2.0)\n",
            "Collecting pegasus-wms.common<5.1\n",
            "  Downloading pegasus-wms.common-5.0.1.tar.gz (43 kB)\n",
            "\u001b[K     |████████████████████████████████| 43 kB 1.3 MB/s \n",
            "\u001b[?25h  Installing build dependencies ... \u001b[?25l\u001b[?25hdone\n",
            "  Getting requirements to build wheel ... \u001b[?25l\u001b[?25hdone\n",
            "    Preparing wheel metadata ... \u001b[?25l\u001b[?25hdone\n",
            "Collecting PyYAML<5.5,>5.3\n",
            "  Downloading PyYAML-5.4.1-cp37-cp37m-manylinux1_x86_64.whl (636 kB)\n",
            "\u001b[K     |████████████████████████████████| 636 kB 37.9 MB/s \n",
            "\u001b[?25hRequirement already satisfied: chardet<4,>=3.0.2 in /usr/local/lib/python3.7/dist-packages (from requests>=1.2.1->pycbc) (3.0.4)\n",
            "Requirement already satisfied: urllib3!=1.25.0,!=1.25.1,<1.26,>=1.21.1 in /usr/local/lib/python3.7/dist-packages (from requests>=1.2.1->pycbc) (1.24.3)\n",
            "Requirement already satisfied: idna<3,>=2.5 in /usr/local/lib/python3.7/dist-packages (from requests>=1.2.1->pycbc) (2.10)\n",
            "Requirement already satisfied: certifi>=2017.4.17 in /usr/local/lib/python3.7/dist-packages (from requests>=1.2.1->pycbc) (2021.10.8)\n",
            "Collecting igwn-auth-utils[requests]>=0.2.0\n",
            "  Downloading igwn_auth_utils-0.2.2-py3-none-any.whl (20 kB)\n",
            "Collecting cryptography>=2.3\n",
            "  Downloading cryptography-37.0.2-cp36-abi3-manylinux_2_24_x86_64.whl (4.0 MB)\n",
            "\u001b[K     |████████████████████████████████| 4.0 MB 42.7 MB/s \n",
            "\u001b[?25hCollecting scitokens>=1.7.0\n",
            "  Downloading scitokens-1.7.0-py3-none-any.whl (23 kB)\n",
            "Collecting safe-netrc>=1.0.0\n",
            "  Downloading safe_netrc-1.0.0-py2.py3-none-any.whl (11 kB)\n",
            "Requirement already satisfied: cffi>=1.12 in /usr/local/lib/python3.7/dist-packages (from cryptography>=2.3->igwn-auth-utils[requests]>=0.2.0->gwdatafind->pycbc) (1.15.0)\n",
            "Requirement already satisfied: pycparser in /usr/local/lib/python3.7/dist-packages (from cffi>=1.12->cryptography>=2.3->igwn-auth-utils[requests]>=0.2.0->gwdatafind->pycbc) (2.21)\n",
            "Collecting PyJWT>=1.6.1\n",
            "  Downloading PyJWT-2.4.0-py3-none-any.whl (18 kB)\n",
            "Requirement already satisfied: zipp>=0.5 in /usr/local/lib/python3.7/dist-packages (from importlib-metadata->astropy!=4.0.5,!=4.2.1,>=2.0.3->pycbc) (3.8.0)\n",
            "Building wheels for collected packages: emcee, lscsoft-glue, pegasus-wms.api, pegasus-wms.common, python-ligo-lw, ligo-segments\n",
            "  Building wheel for emcee (setup.py) ... \u001b[?25l\u001b[?25hdone\n",
            "  Created wheel for emcee: filename=emcee-2.2.1-py3-none-any.whl size=29610 sha256=806227ee385880f5ea23bce513f1e75118e878a43dd180cb9079600f96db9856\n",
            "  Stored in directory: /root/.cache/pip/wheels/e5/a8/f9/786e27aeae8bc4dbf2b22f1d0055098c3a00c307689894c26f\n",
            "  Building wheel for lscsoft-glue (PEP 517) ... \u001b[?25l\u001b[?25hdone\n",
            "  Created wheel for lscsoft-glue: filename=lscsoft_glue-3.0.1-cp37-cp37m-linux_x86_64.whl size=258445 sha256=c37dca619159a00ab72f79a5ab3f2353a1b4ef575ac58576c766b96416123122\n",
            "  Stored in directory: /root/.cache/pip/wheels/62/ad/9a/6e89ceed9887a50c3c227beea125ad58f50b3622fbaf0873bf\n",
            "  Building wheel for pegasus-wms.api (PEP 517) ... \u001b[?25l\u001b[?25hdone\n",
            "  Created wheel for pegasus-wms.api: filename=pegasus_wms.api-5.0.1-py3-none-any.whl size=49028 sha256=ce7edf6ad7f0b3b2df7ec027d5a58202638ce11ce8875277d3774ae890ca8e7a\n",
            "  Stored in directory: /root/.cache/pip/wheels/80/c5/b4/d5b4849b4829b023459f29f493c73e7b4967bd07c234bae049\n",
            "  Building wheel for pegasus-wms.common (PEP 517) ... \u001b[?25l\u001b[?25hdone\n",
            "  Created wheel for pegasus-wms.common: filename=pegasus_wms.common-5.0.1-py3-none-any.whl size=46380 sha256=7a9b60992f50da2d0eb5c48d7efec9eb6c2ec5f18a9afb164e6ce3ed35b3f6e0\n",
            "  Stored in directory: /root/.cache/pip/wheels/42/94/ce/015f98ac7405529587cef7b1d3fdc7419605b34b9e440b0b0e\n",
            "  Building wheel for python-ligo-lw (setup.py) ... \u001b[?25l\u001b[?25hdone\n",
            "  Created wheel for python-ligo-lw: filename=python_ligo_lw-1.8.0-cp37-cp37m-linux_x86_64.whl size=161884 sha256=0c92cddeb5fb73dfa761530c2d3ab924deb8477a34db482e86ac59c94e1800cc\n",
            "  Stored in directory: /root/.cache/pip/wheels/68/6c/3a/00d623422a545b21b5d9d0a4d5a9367a45a8cd0bf5480746b6\n",
            "  Building wheel for ligo-segments (setup.py) ... \u001b[?25l\u001b[?25hdone\n",
            "  Created wheel for ligo-segments: filename=ligo_segments-1.4.0-cp37-cp37m-linux_x86_64.whl size=86642 sha256=1283630f7bc0226d32525c2217d01d743d8800a9c604c3163caa9f98196395f9\n",
            "  Stored in directory: /root/.cache/pip/wheels/09/f9/d4/129b3bb4458d50b56fdc8245ace7c8216d54865fe8d3aebc05\n",
            "Successfully built emcee lscsoft-glue pegasus-wms.api pegasus-wms.common python-ligo-lw ligo-segments\n",
            "Installing collected packages: PyJWT, cryptography, scitokens, safe-netrc, PyYAML, pyRXP, pyOpenSSL, ligo-segments, igwn-auth-utils, pegasus-wms.common, lscsoft-glue, python-ligo-lw, pegasus-wms.api, mpld3, Mako, lalsuite, gwdatafind, pycbc, ligo-common, emcee\n",
            "  Attempting uninstall: PyYAML\n",
            "    Found existing installation: PyYAML 3.13\n",
            "    Uninstalling PyYAML-3.13:\n",
            "      Successfully uninstalled PyYAML-3.13\n",
            "Successfully installed Mako-1.2.0 PyJWT-2.4.0 PyYAML-5.4.1 cryptography-37.0.2 emcee-2.2.1 gwdatafind-1.1.1 igwn-auth-utils-0.2.2 lalsuite-7.5 ligo-common-1.0.3 ligo-segments-1.4.0 lscsoft-glue-3.0.1 mpld3-0.5.7 pegasus-wms.api-5.0.1 pegasus-wms.common-5.0.1 pyOpenSSL-22.0.0 pyRXP-3.0.1 pycbc-2.0.2 python-ligo-lw-1.8.0 safe-netrc-1.0.0 scitokens-1.7.0\n"
          ]
        }
      ]
    },
    {
      "cell_type": "code",
      "source": [
        "#VV The code used for this function was supplied by the supervisor for this project, Ian Harry \n",
        "import lalsimulation\n",
        "import lal\n",
        "def lambdafunct(mass,EOS): #define the lambda function and imputs\n",
        "    #\n",
        "    #To use one of these EOSs, we must first load it into to an eos object\n",
        "    my_intermediate_eos_object = lalsimulation.SimNeutronStarEOSByName(EOS)\n",
        "    #\n",
        "    #And then for some reason we create a *second* object from this\n",
        "    my_eos_object = lalsimulation.CreateSimNeutronStarFamily(my_intermediate_eos_object)\n",
        "    #\n",
        "    # Then I can do things with that object. As this stuff is actually coded in C, it's not very pythonic\n",
        "    # to use. But C is not an object-oriented language, it's functional.\n",
        "    love_number = lalsimulation.SimNeutronStarLoveNumberK2(mass * lal.MSUN_SI, my_eos_object)\n",
        "    #\n",
        "    # Yes, it is actually called this. Lambda is a rescaling of the \"love number\"\n",
        "    # This function takes the mass in kg, so multiply mass in solar masses by lal.MSUN_SI\n",
        "    # which is 1.988E30\n",
        "    radius = lalsimulation.SimNeutronStarRadius(mass * lal.MSUN_SI, my_eos_object)\n",
        "    rescale_constant = lal.G_SI * mass * lal.MSUN_SI  / (lal.C_SI*lal.C_SI * radius)\n",
        "    # As lambda is a built-in function in python, don't use it as a variable name.\n",
        "    lamda = 2./3. * love_number * rescale_constant**(-5.)\n",
        "    return lamda"
      ],
      "metadata": {
        "id": "pix_CfnWktRY"
      },
      "execution_count": 3,
      "outputs": []
    },
    {
      "cell_type": "code",
      "execution_count": 4,
      "metadata": {
        "colab": {
          "base_uri": "https://localhost:8080/"
        },
        "id": "zBdvkndIknOI",
        "outputId": "995cbe19-8edb-49c2-c8b2-6fc7ce8f9055"
      },
      "outputs": [
        {
          "output_type": "stream",
          "name": "stdout",
          "text": [
            "HQC18 308.84009839352615\n",
            "BBB2 302.6711524934337\n",
            "APR 298.4358575478937\n",
            "BHF_BBB2 267.3488835790448\n",
            "APR4_EPP 297.3444973295465\n",
            "MS2 272.1310627623031\n",
            "WFF2 279.2253254596244\n"
          ]
        }
      ],
      "source": [
        "test_case = ['HQC18','BBB2','APR','BHF_BBB2','APR4_EPP','MS2','WFF2']\n",
        "mass = 1.36\n",
        "for EOS in test_case:\n",
        "    lam = lambdafunct(mass,EOS)\n",
        "    print(EOS,lam)"
      ]
    }
  ]
}